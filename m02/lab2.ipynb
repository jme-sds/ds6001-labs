{
 "cells": [
  {
   "cell_type": "markdown",
   "metadata": {},
   "source": [
    "# Lab Assignment 2: How to Load CSV, ASCII, and other data into Python\n",
    "## DS 6001: Practice and Application of Data Science\n",
    "\n",
    "### Instructions\n",
    "Please answer the following questions as completely as possible using text, code, and the results of code as needed. Format your answers in a Jupyter notebook. To receive full credit, make sure you address every part of the problem, and make sure your document is formatted in a clean and professional way.\n",
    "\n",
    "There are 11 data files attached to this lab assignment, with different extensions. First, download all of these data files, and save them in the same folder on your local machine. Your task in the following questions is to load each file into Python correctly, so that you can begin the process of data cleaning. If the variable names are included in the file, use those names to name the columns. If the variable names are not included, use these names in order:"
   ]
  },
  {
   "cell_type": "code",
   "execution_count": 1,
   "metadata": {},
   "outputs": [],
   "source": [
    "column_names = [\"Country\", \"Happiness score\", \"Whisker-high\", \"Whisker-low\", \n",
    "  \"Dystopia (1.92) + residual\", \"Explained by: GDP per capita\", \n",
    "  \"Explained by: Social support\", \"Explained by: Healthy life expectancy\", \n",
    "  \"Explained by: Freedom to make life choices\", \"Explained by: Generosity\", \n",
    "  \"Explained by: Perceptions of corruption\" ]"
   ]
  },
  {
   "cell_type": "markdown",
   "metadata": {},
   "source": [
    "If you loaded the data correctly, it will look like `data_clean.csv`, which is also attached to this lab."
   ]
  },
  {
   "cell_type": "markdown",
   "metadata": {},
   "source": [
    "## Problem 0\n",
    "Import the libraries you will need. Then write code to change the working directory to the folder in which you saved the data files, run the code displayed above to create the `column_names` list, load `data_clean.csv`, and display the output of the `.info()` method of `data_clean`. (1 point)"
   ]
  },
  {
   "cell_type": "code",
   "execution_count": 4,
   "metadata": {},
   "outputs": [
    {
     "name": "stdout",
     "output_type": "stream",
     "text": [
      "<class 'pandas.core.frame.DataFrame'>\n",
      "RangeIndex: 156 entries, 0 to 155\n",
      "Data columns (total 11 columns):\n",
      " #   Column                                      Non-Null Count  Dtype  \n",
      "---  ------                                      --------------  -----  \n",
      " 0   Country                                     156 non-null    object \n",
      " 1   Happiness score                             156 non-null    float64\n",
      " 2   Whisker-high                                156 non-null    float64\n",
      " 3   Whisker-low                                 156 non-null    float64\n",
      " 4   Dystopia (1.92) + residual                  156 non-null    float64\n",
      " 5   Explained by: GDP per capita                156 non-null    float64\n",
      " 6   Explained by: Social support                156 non-null    float64\n",
      " 7   Explained by: Healthy life expectancy       156 non-null    float64\n",
      " 8   Explained by: Freedom to make life choices  156 non-null    float64\n",
      " 9   Explained by: Generosity                    156 non-null    float64\n",
      " 10  Explained by: Perceptions of corruption     156 non-null    float64\n",
      "dtypes: float64(10), object(1)\n",
      "memory usage: 13.5+ KB\n"
     ]
    }
   ],
   "source": [
    "import pandas as pd\n",
    "import numpy as np\n",
    "\n",
    "data_clean = pd.read_csv('lab data/data_clean.csv')\n",
    "data_clean.info()"
   ]
  },
  {
   "cell_type": "markdown",
   "metadata": {},
   "source": [
    "## Problem 1\n",
    "Load `data1.csv`. Use the tools we discussed in class to decide whether the data file loaded correctly, and include that code in your lab report. In one or two sentences, describe how you decided on the right combination of parameters needed to load the data. (1 point)"
   ]
  },
  {
   "cell_type": "code",
   "execution_count": 13,
   "metadata": {},
   "outputs": [
    {
     "name": "stdout",
     "output_type": "stream",
     "text": [
      "<class 'pandas.core.frame.DataFrame'>\n",
      "RangeIndex: 156 entries, 0 to 155\n",
      "Data columns (total 11 columns):\n",
      " #   Column                                      Non-Null Count  Dtype  \n",
      "---  ------                                      --------------  -----  \n",
      " 0   Country                                     156 non-null    object \n",
      " 1   Happiness score                             156 non-null    float64\n",
      " 2   Whisker-high                                156 non-null    float64\n",
      " 3   Whisker-low                                 156 non-null    float64\n",
      " 4   Dystopia (1.92) + residual                  156 non-null    float64\n",
      " 5   Explained by: GDP per capita                156 non-null    float64\n",
      " 6   Explained by: Social support                156 non-null    float64\n",
      " 7   Explained by: Healthy life expectancy       156 non-null    float64\n",
      " 8   Explained by: Freedom to make life choices  156 non-null    float64\n",
      " 9   Explained by: Generosity                    156 non-null    float64\n",
      " 10  Explained by: Perceptions of corruption     156 non-null    float64\n",
      "dtypes: float64(10), object(1)\n",
      "memory usage: 13.5+ KB\n"
     ]
    }
   ],
   "source": [
    "data1 = pd.read_csv('lab data/data1.csv',header=2)\n",
    "data1.info()"
   ]
  },
  {
   "cell_type": "markdown",
   "metadata": {},
   "source": [
    "* When I first loaded the data I noticed immediately that there was an issue with the column names. Upon investigation, I realized the issue was that there were a couple rows of text above the column names, so I used the parameter `header = 2` to tell `read_csv()` where the column names were located."
   ]
  },
  {
   "cell_type": "markdown",
   "metadata": {},
   "source": [
    "## Problem 2\n",
    "Load `data2.txt`. Use the tools we discussed in class to decide whether the data file loaded correctly, and include that code in your lab report. In one or two sentences, describe how you decided on the right combination of parameters needed to load the data. (1 point)"
   ]
  },
  {
   "cell_type": "code",
   "execution_count": 29,
   "metadata": {},
   "outputs": [
    {
     "name": "stdout",
     "output_type": "stream",
     "text": [
      "<class 'pandas.core.frame.DataFrame'>\n",
      "RangeIndex: 156 entries, 0 to 155\n",
      "Data columns (total 11 columns):\n",
      " #   Column                                      Non-Null Count  Dtype  \n",
      "---  ------                                      --------------  -----  \n",
      " 0   Country                                     156 non-null    object \n",
      " 1   Happiness score                             156 non-null    float64\n",
      " 2   Whisker-high                                156 non-null    float64\n",
      " 3   Whisker-low                                 156 non-null    float64\n",
      " 4   Dystopia (1.92) + residual                  156 non-null    float64\n",
      " 5   Explained by: GDP per capita                156 non-null    float64\n",
      " 6   Explained by: Social support                156 non-null    float64\n",
      " 7   Explained by: Healthy life expectancy       156 non-null    float64\n",
      " 8   Explained by: Freedom to make life choices  156 non-null    float64\n",
      " 9   Explained by: Generosity                    156 non-null    float64\n",
      " 10  Explained by: Perceptions of corruption     156 non-null    float64\n",
      "dtypes: float64(10), object(1)\n",
      "memory usage: 13.5+ KB\n"
     ]
    }
   ],
   "source": [
    "data2 = pd.read_csv('lab data/data2.txt',header=2,comment='/')\n",
    "data2.info()"
   ]
  },
  {
   "cell_type": "markdown",
   "metadata": {},
   "source": [
    "* For this dataset, I saw that the header was on the third row, so I used `header=2`, and finally I noticed a comment in one of the rows, so I used `comment='/'` to account for that."
   ]
  },
  {
   "cell_type": "markdown",
   "metadata": {},
   "source": [
    "## Problem 3\n",
    "Load `data3.txt`. Use the tools we discussed in class to decide whether the data file loaded correctly, and include that code in your lab report. In one or two sentences, describe how you decided on the right combination of parameters needed to load the data. (1 point)"
   ]
  },
  {
   "cell_type": "code",
   "execution_count": 31,
   "metadata": {},
   "outputs": [
    {
     "name": "stdout",
     "output_type": "stream",
     "text": [
      "<class 'pandas.core.frame.DataFrame'>\n",
      "RangeIndex: 156 entries, 0 to 155\n",
      "Data columns (total 11 columns):\n",
      " #   Column                                      Non-Null Count  Dtype  \n",
      "---  ------                                      --------------  -----  \n",
      " 0   Country                                     156 non-null    object \n",
      " 1   Happiness score                             156 non-null    float64\n",
      " 2   Whisker-high                                156 non-null    float64\n",
      " 3   Whisker-low                                 156 non-null    float64\n",
      " 4   Dystopia (1.92) + residual                  156 non-null    float64\n",
      " 5   Explained by: GDP per capita                156 non-null    float64\n",
      " 6   Explained by: Social support                156 non-null    float64\n",
      " 7   Explained by: Healthy life expectancy       156 non-null    float64\n",
      " 8   Explained by: Freedom to make life choices  156 non-null    float64\n",
      " 9   Explained by: Generosity                    156 non-null    float64\n",
      " 10  Explained by: Perceptions of corruption     156 non-null    float64\n",
      "dtypes: float64(10), object(1)\n",
      "memory usage: 13.5+ KB\n"
     ]
    }
   ],
   "source": [
    "data3 = pd.read_csv('lab data/data3.txt',delimiter='\\t',header=2)\n",
    "data3.info()"
   ]
  },
  {
   "cell_type": "markdown",
   "metadata": {},
   "source": [
    "* The changes needed for this dataset were using `delimiter='\\t'` since the data is tab-delimited and `header=2` since the column names are in the third line."
   ]
  },
  {
   "cell_type": "markdown",
   "metadata": {},
   "source": [
    "## Problem 4\n",
    "Load `data4.txt`. Use the tools we discussed in class to decide whether the data file loaded correctly, and include that code in your lab report. In one or two sentences, describe how you decided on the right combination of parameters needed to load the data. (1 point)"
   ]
  },
  {
   "cell_type": "code",
   "execution_count": 38,
   "metadata": {},
   "outputs": [
    {
     "name": "stdout",
     "output_type": "stream",
     "text": [
      "<class 'pandas.core.frame.DataFrame'>\n",
      "RangeIndex: 156 entries, 0 to 155\n",
      "Data columns (total 11 columns):\n",
      " #   Column                                      Non-Null Count  Dtype  \n",
      "---  ------                                      --------------  -----  \n",
      " 0   Country                                     156 non-null    object \n",
      " 1   Happiness score                             156 non-null    float64\n",
      " 2   Whisker-high                                156 non-null    float64\n",
      " 3   Whisker-low                                 156 non-null    float64\n",
      " 4   Dystopia (1.92) + residual                  156 non-null    float64\n",
      " 5   Explained by: GDP per capita                156 non-null    float64\n",
      " 6   Explained by: Social support                156 non-null    float64\n",
      " 7   Explained by: Healthy life expectancy       156 non-null    float64\n",
      " 8   Explained by: Freedom to make life choices  156 non-null    float64\n",
      " 9   Explained by: Generosity                    156 non-null    float64\n",
      " 10  Explained by: Perceptions of corruption     156 non-null    float64\n",
      "dtypes: float64(10), object(1)\n",
      "memory usage: 13.5+ KB\n"
     ]
    }
   ],
   "source": [
    "data4 = pd.read_csv('lab data/data4.txt',delimiter='$',names=column_names)\n",
    "data4.info()"
   ]
  },
  {
   "cell_type": "markdown",
   "metadata": {},
   "source": [
    "* This dataset was delimited by \\$, so I used `delimiter='$'` here. Also this dataset was missing column names so these were applied using `names=column_names`."
   ]
  },
  {
   "cell_type": "markdown",
   "metadata": {},
   "source": [
    "## Problem 5\n",
    "Load `data5.csv`. Use the tools we discussed in class to decide whether the data file loaded correctly, and include that code in your lab report. In one or two sentences, describe how you decided on the right combination of parameters needed to load the data. (1 point)"
   ]
  },
  {
   "cell_type": "code",
   "execution_count": 47,
   "metadata": {},
   "outputs": [
    {
     "name": "stdout",
     "output_type": "stream",
     "text": [
      "<class 'pandas.core.frame.DataFrame'>\n",
      "RangeIndex: 156 entries, 0 to 155\n",
      "Data columns (total 11 columns):\n",
      " #   Column                                      Non-Null Count  Dtype  \n",
      "---  ------                                      --------------  -----  \n",
      " 0   Country                                     156 non-null    object \n",
      " 1   Happiness score                             156 non-null    float64\n",
      " 2   Whisker-high                                156 non-null    float64\n",
      " 3   Whisker-low                                 156 non-null    float64\n",
      " 4   Dystopia (1.92) + residual                  156 non-null    float64\n",
      " 5   Explained by: GDP per capita                156 non-null    float64\n",
      " 6   Explained by: Social support                156 non-null    float64\n",
      " 7   Explained by: Healthy life expectancy       156 non-null    float64\n",
      " 8   Explained by: Freedom to make life choices  156 non-null    float64\n",
      " 9   Explained by: Generosity                    156 non-null    float64\n",
      " 10  Explained by: Perceptions of corruption     156 non-null    float64\n",
      "dtypes: float64(10), object(1)\n",
      "memory usage: 13.5+ KB\n"
     ]
    },
    {
     "name": "stderr",
     "output_type": "stream",
     "text": [
      "/tmp/ipykernel_42579/549364903.py:1: ParserWarning: Falling back to the 'python' engine because the 'c' engine does not support skipfooter; you can avoid this warning by specifying engine='python'.\n",
      "  data5 = pd.read_csv('lab data/data5.csv',skipfooter=2)\n"
     ]
    }
   ],
   "source": [
    "data5 = pd.read_csv('lab data/data5.csv',skipfooter=2)\n",
    "data5.info()"
   ]
  },
  {
   "cell_type": "markdown",
   "metadata": {},
   "source": [
    "* Here I used `skipfooter=2` since the metadata was located at the bottom two rows of the dataset this time."
   ]
  },
  {
   "cell_type": "markdown",
   "metadata": {},
   "source": [
    "## Problem 6\n",
    "Load `data6.dat`. Use the tools we discussed in class to decide whether the data file loaded correctly, and include that code in your lab report. In one or two sentences, describe how you decided on the right combination of parameters needed to load the data. (1 point)"
   ]
  },
  {
   "cell_type": "code",
   "execution_count": 53,
   "metadata": {},
   "outputs": [
    {
     "data": {
      "text/html": [
       "<div>\n",
       "<style scoped>\n",
       "    .dataframe tbody tr th:only-of-type {\n",
       "        vertical-align: middle;\n",
       "    }\n",
       "\n",
       "    .dataframe tbody tr th {\n",
       "        vertical-align: top;\n",
       "    }\n",
       "\n",
       "    .dataframe thead th {\n",
       "        text-align: right;\n",
       "    }\n",
       "</style>\n",
       "<table border=\"1\" class=\"dataframe\">\n",
       "  <thead>\n",
       "    <tr style=\"text-align: right;\">\n",
       "      <th></th>\n",
       "      <th>0</th>\n",
       "      <th>1</th>\n",
       "      <th>2</th>\n",
       "    </tr>\n",
       "  </thead>\n",
       "  <tbody>\n",
       "    <tr>\n",
       "      <th>Country</th>\n",
       "      <td>Finland</td>\n",
       "      <td>Norway</td>\n",
       "      <td>Denmark</td>\n",
       "    </tr>\n",
       "    <tr>\n",
       "      <th>Happiness score</th>\n",
       "      <td>7.632</td>\n",
       "      <td>7.594</td>\n",
       "      <td>7.555</td>\n",
       "    </tr>\n",
       "    <tr>\n",
       "      <th>Whisker-high</th>\n",
       "      <td>7.695</td>\n",
       "      <td>7.657</td>\n",
       "      <td>7.623</td>\n",
       "    </tr>\n",
       "    <tr>\n",
       "      <th>Whisker-low</th>\n",
       "      <td>7.569</td>\n",
       "      <td>7.53</td>\n",
       "      <td>7.487</td>\n",
       "    </tr>\n",
       "    <tr>\n",
       "      <th>Dystopia (1.92) + residual</th>\n",
       "      <td>2.595</td>\n",
       "      <td>NaN</td>\n",
       "      <td>2.37</td>\n",
       "    </tr>\n",
       "    <tr>\n",
       "      <th>Explained by: GDP per capita</th>\n",
       "      <td>NaN</td>\n",
       "      <td>NaN</td>\n",
       "      <td>1.351</td>\n",
       "    </tr>\n",
       "    <tr>\n",
       "      <th>Explained by: Social support</th>\n",
       "      <td>NaN</td>\n",
       "      <td>1.582</td>\n",
       "      <td>1.59</td>\n",
       "    </tr>\n",
       "    <tr>\n",
       "      <th>Explained by: Healthy life expectancy</th>\n",
       "      <td>NaN</td>\n",
       "      <td>NaN</td>\n",
       "      <td>NaN</td>\n",
       "    </tr>\n",
       "    <tr>\n",
       "      <th>Explained by: Freedom to make life choices</th>\n",
       "      <td>0.681</td>\n",
       "      <td>0.686</td>\n",
       "      <td>0.683</td>\n",
       "    </tr>\n",
       "    <tr>\n",
       "      <th>Explained by: Generosity</th>\n",
       "      <td>0.192</td>\n",
       "      <td>0.286</td>\n",
       "      <td>0.284</td>\n",
       "    </tr>\n",
       "    <tr>\n",
       "      <th>Explained by: Perceptions of corruption</th>\n",
       "      <td>0.393</td>\n",
       "      <td>0.34</td>\n",
       "      <td>0.408</td>\n",
       "    </tr>\n",
       "  </tbody>\n",
       "</table>\n",
       "</div>"
      ],
      "text/plain": [
       "                                                  0       1        2\n",
       "Country                                     Finland  Norway  Denmark\n",
       "Happiness score                               7.632   7.594    7.555\n",
       "Whisker-high                                  7.695   7.657    7.623\n",
       "Whisker-low                                   7.569    7.53    7.487\n",
       "Dystopia (1.92) + residual                    2.595     NaN     2.37\n",
       "Explained by: GDP per capita                    NaN     NaN    1.351\n",
       "Explained by: Social support                    NaN   1.582     1.59\n",
       "Explained by: Healthy life expectancy           NaN     NaN      NaN\n",
       "Explained by: Freedom to make life choices    0.681   0.686    0.683\n",
       "Explained by: Generosity                      0.192   0.286    0.284\n",
       "Explained by: Perceptions of corruption       0.393    0.34    0.408"
      ]
     },
     "execution_count": 53,
     "metadata": {},
     "output_type": "execute_result"
    }
   ],
   "source": [
    "data6 = pd.read_csv('lab data/data6.dat',na_values=999)\n",
    "data6.head(3).T"
   ]
  },
  {
   "cell_type": "markdown",
   "metadata": {},
   "source": [
    "* I used `na_values=999` here since there were many values of 999 throughout the data. This is not likely to be real data, so `NaN` was substituted here."
   ]
  },
  {
   "cell_type": "markdown",
   "metadata": {},
   "source": [
    "## Problem 7\n",
    "Load `data7.xlsx`, which is an Excel file. Keep only the sheet named “Data”. Use the tools we discussed in class to decide whether the data file loaded correctly, and include that code in your lab report. In one or two sentences, describe how you decided on the right combination of parameters needed to load the data. (2 points)"
   ]
  },
  {
   "cell_type": "code",
   "execution_count": 58,
   "metadata": {},
   "outputs": [
    {
     "name": "stdout",
     "output_type": "stream",
     "text": [
      "<class 'pandas.core.frame.DataFrame'>\n",
      "RangeIndex: 156 entries, 0 to 155\n",
      "Data columns (total 11 columns):\n",
      " #   Column                                      Non-Null Count  Dtype  \n",
      "---  ------                                      --------------  -----  \n",
      " 0   Country                                     156 non-null    object \n",
      " 1   Happiness score                             156 non-null    float64\n",
      " 2   Whisker-high                                156 non-null    float64\n",
      " 3   Whisker-low                                 156 non-null    float64\n",
      " 4   Dystopia (1.92) + residual                  156 non-null    float64\n",
      " 5   Explained by: GDP per capita                156 non-null    float64\n",
      " 6   Explained by: Social support                156 non-null    float64\n",
      " 7   Explained by: Healthy life expectancy       156 non-null    float64\n",
      " 8   Explained by: Freedom to make life choices  156 non-null    float64\n",
      " 9   Explained by: Generosity                    156 non-null    float64\n",
      " 10  Explained by: Perceptions of corruption     156 non-null    float64\n",
      "dtypes: float64(10), object(1)\n",
      "memory usage: 13.5+ KB\n"
     ]
    }
   ],
   "source": [
    "data7 = pd.read_excel('lab data/data7.xlsx',sheet_name='Data')\n",
    "data7.info()"
   ]
  },
  {
   "cell_type": "markdown",
   "metadata": {},
   "source": [
    "* I used `sheet_name='Data'` in combination with `pd.read_excel()` since this function is the easiest way to read data from an excel document."
   ]
  },
  {
   "cell_type": "markdown",
   "metadata": {},
   "source": [
    "## Problem 8\n",
    "Load `data8.dta`, which is a Stata 13 file. Use the tools we discussed in class to decide whether the data file loaded correctly, and include that code in your lab report. In one or two sentences, describe how you decided on the right combination of parameters needed to load the data. (2 points)"
   ]
  },
  {
   "cell_type": "code",
   "execution_count": 59,
   "metadata": {},
   "outputs": [
    {
     "name": "stdout",
     "output_type": "stream",
     "text": [
      "<class 'pandas.core.frame.DataFrame'>\n",
      "RangeIndex: 156 entries, 0 to 155\n",
      "Data columns (total 11 columns):\n",
      " #   Column                            Non-Null Count  Dtype  \n",
      "---  ------                            --------------  -----  \n",
      " 0   country                           156 non-null    object \n",
      " 1   happinessscore                    156 non-null    float32\n",
      " 2   whiskerhigh                       156 non-null    float32\n",
      " 3   whiskerlow                        156 non-null    float32\n",
      " 4   dystopia192residual               156 non-null    float32\n",
      " 5   explainedbygdppercapita           156 non-null    float32\n",
      " 6   explainedbysocialsupport          156 non-null    float32\n",
      " 7   explainedbyhealthylifeexpectancy  156 non-null    float32\n",
      " 8   explainedbyfreedomtomakelifechoi  156 non-null    float32\n",
      " 9   explainedbygenerosity             156 non-null    float32\n",
      " 10  explainedbyperceptionsofcorrupti  156 non-null    float32\n",
      "dtypes: float32(10), object(1)\n",
      "memory usage: 7.4+ KB\n"
     ]
    }
   ],
   "source": [
    "data8 = pd.read_stata('lab data/data8.dta',)\n",
    "data8.info()"
   ]
  },
  {
   "cell_type": "markdown",
   "metadata": {},
   "source": [
    "* I used `pd.read_stata()` here since this is a Stata file."
   ]
  },
  {
   "cell_type": "markdown",
   "metadata": {},
   "source": [
    "## Problem 9\n",
    "Load `data9.sav`, which is an SPSS file. Use the tools we discussed in class to decide whether the data file loaded correctly, and include that code in your lab report. In one or two sentences, describe how you decided on the right combination of parameters needed to load the data. (2 points)"
   ]
  },
  {
   "cell_type": "code",
   "execution_count": 65,
   "metadata": {},
   "outputs": [
    {
     "name": "stdout",
     "output_type": "stream",
     "text": [
      "<class 'pandas.core.frame.DataFrame'>\n",
      "RangeIndex: 156 entries, 0 to 155\n",
      "Data columns (total 11 columns):\n",
      " #   Column       Non-Null Count  Dtype  \n",
      "---  ------       --------------  -----  \n",
      " 0   country      156 non-null    object \n",
      " 1   happiness    156 non-null    float64\n",
      " 2   whiskerhigh  156 non-null    float64\n",
      " 3   whiskerlow   156 non-null    float64\n",
      " 4   dystopia     156 non-null    float64\n",
      " 5   gdpPC        156 non-null    float64\n",
      " 6   socsupport   156 non-null    float64\n",
      " 7   lifeexp      156 non-null    float64\n",
      " 8   lifechoice   156 non-null    float64\n",
      " 9   generous     156 non-null    float64\n",
      " 10  corrupt      156 non-null    float64\n",
      "dtypes: float64(10), object(1)\n",
      "memory usage: 13.5+ KB\n"
     ]
    }
   ],
   "source": [
    "data9 = pd.read_spss('lab data/data9.sav')\n",
    "data9.info()"
   ]
  },
  {
   "cell_type": "markdown",
   "metadata": {},
   "source": [
    "* I used `pd.read_spss()` here since this is an SPSS file."
   ]
  },
  {
   "cell_type": "markdown",
   "metadata": {},
   "source": [
    "## Problem 10\n",
    "Load `data10.xpt`, which is a SAS file. Use the tools we discussed in class to decide whether the data file loaded correctly, and include that code in your lab report. In one or two sentences, describe how you decided on the right combination of parameters needed to load the data. (If some of the country names display as `b'Finland'`, don't worry aout that.) (2 points)"
   ]
  },
  {
   "cell_type": "code",
   "execution_count": 79,
   "metadata": {},
   "outputs": [
    {
     "data": {
      "text/html": [
       "<div>\n",
       "<style scoped>\n",
       "    .dataframe tbody tr th:only-of-type {\n",
       "        vertical-align: middle;\n",
       "    }\n",
       "\n",
       "    .dataframe tbody tr th {\n",
       "        vertical-align: top;\n",
       "    }\n",
       "\n",
       "    .dataframe thead th {\n",
       "        text-align: right;\n",
       "    }\n",
       "</style>\n",
       "<table border=\"1\" class=\"dataframe\">\n",
       "  <thead>\n",
       "    <tr style=\"text-align: right;\">\n",
       "      <th></th>\n",
       "      <th>0</th>\n",
       "      <th>1</th>\n",
       "      <th>2</th>\n",
       "    </tr>\n",
       "  </thead>\n",
       "  <tbody>\n",
       "    <tr>\n",
       "      <th>COUNTRY</th>\n",
       "      <td>b'Finland'</td>\n",
       "      <td>b'Norway'</td>\n",
       "      <td>b'Denmark'</td>\n",
       "    </tr>\n",
       "    <tr>\n",
       "      <th>HAPPINES</th>\n",
       "      <td>7.632</td>\n",
       "      <td>7.594</td>\n",
       "      <td>7.555</td>\n",
       "    </tr>\n",
       "    <tr>\n",
       "      <th>WHISKERH</th>\n",
       "      <td>7.695</td>\n",
       "      <td>7.657</td>\n",
       "      <td>7.623</td>\n",
       "    </tr>\n",
       "    <tr>\n",
       "      <th>WHISKERL</th>\n",
       "      <td>7.569</td>\n",
       "      <td>7.53</td>\n",
       "      <td>7.487</td>\n",
       "    </tr>\n",
       "    <tr>\n",
       "      <th>DYSTOPIA</th>\n",
       "      <td>2.595</td>\n",
       "      <td>2.383</td>\n",
       "      <td>2.37</td>\n",
       "    </tr>\n",
       "    <tr>\n",
       "      <th>EXPLAINE</th>\n",
       "      <td>1.305</td>\n",
       "      <td>1.456</td>\n",
       "      <td>1.351</td>\n",
       "    </tr>\n",
       "    <tr>\n",
       "      <th>EXPLAIN2</th>\n",
       "      <td>1.592</td>\n",
       "      <td>1.582</td>\n",
       "      <td>1.59</td>\n",
       "    </tr>\n",
       "    <tr>\n",
       "      <th>EXPLAIN3</th>\n",
       "      <td>0.874</td>\n",
       "      <td>0.861</td>\n",
       "      <td>0.868</td>\n",
       "    </tr>\n",
       "    <tr>\n",
       "      <th>EXPLAIN4</th>\n",
       "      <td>0.681</td>\n",
       "      <td>0.686</td>\n",
       "      <td>0.683</td>\n",
       "    </tr>\n",
       "    <tr>\n",
       "      <th>EXPLAIN5</th>\n",
       "      <td>0.192</td>\n",
       "      <td>0.286</td>\n",
       "      <td>0.284</td>\n",
       "    </tr>\n",
       "    <tr>\n",
       "      <th>EXPLAIN6</th>\n",
       "      <td>0.393</td>\n",
       "      <td>0.34</td>\n",
       "      <td>0.408</td>\n",
       "    </tr>\n",
       "  </tbody>\n",
       "</table>\n",
       "</div>"
      ],
      "text/plain": [
       "                   0          1           2\n",
       "COUNTRY   b'Finland'  b'Norway'  b'Denmark'\n",
       "HAPPINES       7.632      7.594       7.555\n",
       "WHISKERH       7.695      7.657       7.623\n",
       "WHISKERL       7.569       7.53       7.487\n",
       "DYSTOPIA       2.595      2.383        2.37\n",
       "EXPLAINE       1.305      1.456       1.351\n",
       "EXPLAIN2       1.592      1.582        1.59\n",
       "EXPLAIN3       0.874      0.861       0.868\n",
       "EXPLAIN4       0.681      0.686       0.683\n",
       "EXPLAIN5       0.192      0.286       0.284\n",
       "EXPLAIN6       0.393       0.34       0.408"
      ]
     },
     "execution_count": 79,
     "metadata": {},
     "output_type": "execute_result"
    }
   ],
   "source": [
    "data10 = pd.read_sas('lab data/data10.xpt')\n",
    "data10.head(3).T"
   ]
  },
  {
   "cell_type": "markdown",
   "metadata": {},
   "source": [
    "* I used `pd.read_sas()` here since this is an SAS file."
   ]
  },
  {
   "cell_type": "markdown",
   "metadata": {},
   "source": [
    "## Problem 11\n",
    "Please load the `data11.txt` file, which is a fixed width file. The columns are defined as follows:\n",
    "\n",
    "| Variable                                   | Width | Start | End |\n",
    "|--------------------------------------------|-------|-------|-----|\n",
    "| Country                                    | 24    | 1     | 24  |\n",
    "| Happiness score                            | 5     | 25    | 29  |\n",
    "| Whisker-high                               | 5     | 30    | 34  |\n",
    "| Whisker-low                                | 5     | 35    | 39  |\n",
    "| Dystopia (1.92) + residual                 | 5     | 40    | 44  |\n",
    "| Explained by: GDP per capita               | 5     | 45    | 49  |\n",
    "| Explained by: Social support               | 5     | 50    | 54  |\n",
    "| Explained by: Healthy life expectancy      | 5     | 55    | 59  |\n",
    "| Explained by: Freedom to make life choices | 5     | 60    | 64  |\n",
    "| Explained by: Generosity                   | 5     | 65    | 69  |\n",
    "| Explained by: Perceptions of corruption    | 5     | 70    | 74  |\n",
    "\n",
    "Then save the this loaded data frame as a CSV file on your local machine. Be sure to use a unique filename so as not to overwrite any existing files. (5 points)"
   ]
  },
  {
   "cell_type": "code",
   "execution_count": 80,
   "metadata": {},
   "outputs": [
    {
     "name": "stdout",
     "output_type": "stream",
     "text": [
      "<class 'pandas.core.frame.DataFrame'>\n",
      "RangeIndex: 156 entries, 0 to 155\n",
      "Data columns (total 11 columns):\n",
      " #   Column                                      Non-Null Count  Dtype  \n",
      "---  ------                                      --------------  -----  \n",
      " 0   Country                                     156 non-null    object \n",
      " 1   Happiness score                             156 non-null    float64\n",
      " 2   Whisker-high                                156 non-null    float64\n",
      " 3   Whisker-low                                 156 non-null    float64\n",
      " 4   Dystopia (1.92) + residual                  156 non-null    float64\n",
      " 5   Explained by: GDP per capita                156 non-null    float64\n",
      " 6   Explained by: Social support                156 non-null    float64\n",
      " 7   Explained by: Healthy life expectancy       156 non-null    float64\n",
      " 8   Explained by: Freedom to make life choices  156 non-null    float64\n",
      " 9   Explained by: Generosity                    156 non-null    float64\n",
      " 10  Explained by: Perceptions of corruption     156 non-null    float64\n",
      "dtypes: float64(10), object(1)\n",
      "memory usage: 13.5+ KB\n"
     ]
    }
   ],
   "source": [
    "colwidths = [24,5,5,5,5,5,5,5,5,5,5]\n",
    "\n",
    "data11 = pd.read_fwf('lab data/data11.txt',widths = colwidths,names=column_names)\n",
    "\n",
    "data11.info()"
   ]
  },
  {
   "cell_type": "code",
   "execution_count": 85,
   "metadata": {},
   "outputs": [
    {
     "data": {
      "text/html": [
       "<div>\n",
       "<style scoped>\n",
       "    .dataframe tbody tr th:only-of-type {\n",
       "        vertical-align: middle;\n",
       "    }\n",
       "\n",
       "    .dataframe tbody tr th {\n",
       "        vertical-align: top;\n",
       "    }\n",
       "\n",
       "    .dataframe thead th {\n",
       "        text-align: right;\n",
       "    }\n",
       "</style>\n",
       "<table border=\"1\" class=\"dataframe\">\n",
       "  <thead>\n",
       "    <tr style=\"text-align: right;\">\n",
       "      <th></th>\n",
       "      <th>Country</th>\n",
       "      <th>Happiness score</th>\n",
       "      <th>Whisker-high</th>\n",
       "      <th>Whisker-low</th>\n",
       "      <th>Dystopia (1.92) + residual</th>\n",
       "      <th>Explained by: GDP per capita</th>\n",
       "      <th>Explained by: Social support</th>\n",
       "      <th>Explained by: Healthy life expectancy</th>\n",
       "      <th>Explained by: Freedom to make life choices</th>\n",
       "      <th>Explained by: Generosity</th>\n",
       "      <th>Explained by: Perceptions of corruption</th>\n",
       "    </tr>\n",
       "  </thead>\n",
       "  <tbody>\n",
       "    <tr>\n",
       "      <th>0</th>\n",
       "      <td>Finland</td>\n",
       "      <td>7.632</td>\n",
       "      <td>7.695</td>\n",
       "      <td>7.569</td>\n",
       "      <td>2.595</td>\n",
       "      <td>1.305</td>\n",
       "      <td>1.592</td>\n",
       "      <td>0.874</td>\n",
       "      <td>0.681</td>\n",
       "      <td>0.192</td>\n",
       "      <td>0.393</td>\n",
       "    </tr>\n",
       "    <tr>\n",
       "      <th>1</th>\n",
       "      <td>Norway</td>\n",
       "      <td>7.594</td>\n",
       "      <td>7.657</td>\n",
       "      <td>7.530</td>\n",
       "      <td>2.383</td>\n",
       "      <td>1.456</td>\n",
       "      <td>1.582</td>\n",
       "      <td>0.861</td>\n",
       "      <td>0.686</td>\n",
       "      <td>0.286</td>\n",
       "      <td>0.340</td>\n",
       "    </tr>\n",
       "    <tr>\n",
       "      <th>2</th>\n",
       "      <td>Denmark</td>\n",
       "      <td>7.555</td>\n",
       "      <td>7.623</td>\n",
       "      <td>7.487</td>\n",
       "      <td>2.370</td>\n",
       "      <td>1.351</td>\n",
       "      <td>1.590</td>\n",
       "      <td>0.868</td>\n",
       "      <td>0.683</td>\n",
       "      <td>0.284</td>\n",
       "      <td>0.408</td>\n",
       "    </tr>\n",
       "  </tbody>\n",
       "</table>\n",
       "</div>"
      ],
      "text/plain": [
       "   Country  Happiness score  Whisker-high  Whisker-low  \\\n",
       "0  Finland            7.632         7.695        7.569   \n",
       "1   Norway            7.594         7.657        7.530   \n",
       "2  Denmark            7.555         7.623        7.487   \n",
       "\n",
       "   Dystopia (1.92) + residual  Explained by: GDP per capita  \\\n",
       "0                       2.595                         1.305   \n",
       "1                       2.383                         1.456   \n",
       "2                       2.370                         1.351   \n",
       "\n",
       "   Explained by: Social support  Explained by: Healthy life expectancy  \\\n",
       "0                         1.592                                  0.874   \n",
       "1                         1.582                                  0.861   \n",
       "2                         1.590                                  0.868   \n",
       "\n",
       "   Explained by: Freedom to make life choices  Explained by: Generosity  \\\n",
       "0                                       0.681                     0.192   \n",
       "1                                       0.686                     0.286   \n",
       "2                                       0.683                     0.284   \n",
       "\n",
       "   Explained by: Perceptions of corruption  \n",
       "0                                    0.393  \n",
       "1                                    0.340  \n",
       "2                                    0.408  "
      ]
     },
     "execution_count": 85,
     "metadata": {},
     "output_type": "execute_result"
    }
   ],
   "source": [
    "data11.to_csv('lab data/newdata11.csv',index=False)\n",
    "\n",
    "pd.read_csv('lab data/newdata11.csv').head(3)"
   ]
  },
  {
   "cell_type": "markdown",
   "metadata": {},
   "source": [
    "* I used `index=False` in `to_csv()` so that the row number wouldn't be saved as well."
   ]
  }
 ],
 "metadata": {
  "kernelspec": {
   "display_name": "Python 3",
   "language": "python",
   "name": "python3"
  },
  "language_info": {
   "codemirror_mode": {
    "name": "ipython",
    "version": 3
   },
   "file_extension": ".py",
   "mimetype": "text/x-python",
   "name": "python",
   "nbconvert_exporter": "python",
   "pygments_lexer": "ipython3",
   "version": "3.10.12"
  }
 },
 "nbformat": 4,
 "nbformat_minor": 4
}
